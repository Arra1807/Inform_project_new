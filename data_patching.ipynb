{
  "cells": [
    {
      "cell_type": "code",
      "source": [
        "from google.colab import drive\n",
        "drive.mount('/content/drive')"
      ],
      "metadata": {
        "colab": {
          "base_uri": "https://localhost:8080/"
        },
        "id": "herd9waS3JGo",
        "outputId": "4003ddea-0101-40e8-84f6-e8280686569e"
      },
      "id": "herd9waS3JGo",
      "execution_count": 1,
      "outputs": [
        {
          "output_type": "stream",
          "name": "stdout",
          "text": [
            "Drive already mounted at /content/drive; to attempt to forcibly remount, call drive.mount(\"/content/drive\", force_remount=True).\n"
          ]
        }
      ]
    },
    {
      "cell_type": "code",
      "source": [
        "!git clone https://github.com/Arra1807/Inform_project_new.git"
      ],
      "metadata": {
        "colab": {
          "base_uri": "https://localhost:8080/"
        },
        "id": "Fpzwn-GI3gDu",
        "outputId": "508b1afe-2997-4068-9262-8d886aedffc1"
      },
      "id": "Fpzwn-GI3gDu",
      "execution_count": 2,
      "outputs": [
        {
          "output_type": "stream",
          "name": "stdout",
          "text": [
            "fatal: destination path 'Inform_project_new' already exists and is not an empty directory.\n"
          ]
        }
      ]
    },
    {
      "cell_type": "code",
      "source": [
        "!nvidia-smi"
      ],
      "metadata": {
        "colab": {
          "base_uri": "https://localhost:8080/"
        },
        "id": "d72-TcjMOZSG",
        "outputId": "9a3db6e9-f727-41f4-e8c7-86d645b0f3b0"
      },
      "id": "d72-TcjMOZSG",
      "execution_count": 3,
      "outputs": [
        {
          "output_type": "stream",
          "name": "stdout",
          "text": [
            "/bin/bash: line 1: nvidia-smi: command not found\n"
          ]
        }
      ]
    },
    {
      "cell_type": "markdown",
      "source": [
        "# Load Data"
      ],
      "metadata": {
        "id": "91mBs1WWnyv0"
      },
      "id": "91mBs1WWnyv0"
    },
    {
      "cell_type": "code",
      "execution_count": 4,
      "id": "4dc01af9",
      "metadata": {
        "id": "4dc01af9",
        "colab": {
          "base_uri": "https://localhost:8080/"
        },
        "outputId": "91b7b2b4-61c6-4231-d718-989a0f79d6f1"
      },
      "outputs": [
        {
          "output_type": "stream",
          "name": "stdout",
          "text": [
            "Selected 10 echograms from year 2014\n",
            "Number of echograms: 10\n"
          ]
        }
      ],
      "source": [
        "import numpy as np\n",
        "from Inform_project_new.data.echosounder_data.load_data.get_echograms_2 import get_echograms, count_classes_in_echograms\n",
        "\n",
        "# You can select a specific year or use 'all' to include multiple years.\n",
        "years = 2014\n",
        "minimum_shape = 224\n",
        "tuple_frequencies = (18, 38, 70, 120, 200, 333)\n",
        "echograms = get_echograms(years=years, tuple_frequencies=tuple_frequencies, minimum_shape=minimum_shape)\n",
        "print(f\"Number of echograms: {len(echograms)}\")\n"
      ]
    },
    {
      "cell_type": "markdown",
      "source": [
        "# Split Large Echograms into Train images and Test images"
      ],
      "metadata": {
        "id": "cKDdjleDn8bV"
      },
      "id": "cKDdjleDn8bV"
    },
    {
      "cell_type": "code",
      "source": [
        "import os\n",
        "import random\n",
        "# Randomly split echograms into train/test\n",
        "random.seed(42)  # Set a seed for reproducibility\n",
        "Train_eg = []\n",
        "test_eg = []\n",
        "echogram = random.shuffle(echograms)  # Shuffle echograms randomly\n",
        "for i,echogram in enumerate(echograms):\n",
        "  if i < 0.8*len(echograms):\n",
        "    Train_eg.append(echogram)\n",
        "  else:\n",
        "    test_eg.append(echogram)\n",
        "\n",
        "#Save the echograms to files\n",
        "train_dir = '/content/Inform_project_new/train'\n",
        "test_dir = '/content/Inform_project_new/test'\n",
        "os.makedirs(train_dir, exist_ok=True)\n",
        "os.makedirs(test_dir, exist_ok=True)\n",
        "\n",
        "for i, echogram in enumerate(Train_eg):\n",
        " os.path.join(train_dir, f'echogram_{i}.npy')\n",
        "for i, echogram in enumerate(test_eg):\n",
        "  os.path.join(test_dir, f'echogram_{i}.npy')\n",
        "\n",
        "# Print the number of echograms in each set\n",
        "print('Train Echogram:', len(Train_eg))\n",
        "print('Test Echogram:', len(test_eg))"
      ],
      "metadata": {
        "id": "z4AhaZuhNvZF"
      },
      "id": "z4AhaZuhNvZF",
      "execution_count": null,
      "outputs": []
    },
    {
      "cell_type": "code",
      "source": [
        "%env PYTORCH_CUDA_ALLOC_CONF=expandable_segments:True\n",
        "import torch\n",
        "import gc\n",
        "\n",
        "# Manuell opprydding før trening\n",
        "gc.collect()\n",
        "torch.cuda.empty_cache()\n",
        "\n",
        "# Sjekk og velg riktig device\n",
        "device = torch.device(\"cuda\" if torch.cuda.is_available() else \"cpu\")\n",
        "print(\"Using device:\", device)"
      ],
      "metadata": {
        "colab": {
          "base_uri": "https://localhost:8080/"
        },
        "id": "vGzgzW4ss4BQ",
        "outputId": "4f3f03b0-a746-44c0-feb9-cb49e2e6e368"
      },
      "id": "vGzgzW4ss4BQ",
      "execution_count": 6,
      "outputs": [
        {
          "output_type": "stream",
          "name": "stdout",
          "text": [
            "env: PYTORCH_CUDA_ALLOC_CONF=expandable_segments:True\n",
            "Using device: cpu\n"
          ]
        }
      ]
    },
    {
      "cell_type": "markdown",
      "source": [],
      "metadata": {
        "id": "7yxpmllERM6n"
      },
      "id": "7yxpmllERM6n"
    },
    {
      "cell_type": "code",
      "source": [
        "from Inform_project_new.data.echosounder_data.preprocessing.resize_and_crop import SplitResizeEchogram, generate_patch_batches\n",
        "from Inform_project_new.data.echosounder_data.preprocessing.normalization import db, clip, standardize_min_max\n",
        "import numpy as np\n",
        "\n",
        "data_transform = [db, clip, standardize_min_max]\n",
        "split_patch_size = 448\n",
        "output_patch_size = 448\n",
        "\n",
        "\n",
        "#---Train set---\n",
        "train_generators, num_patches_per_train_echogram = generate_patch_batches(Train_eg, split_patch_size,\n",
        "                                                                          output_patch_size, data_transforms= data_transform,\n",
        "                                                                          batch_size='full', verbose= False)\n",
        "print('Number of patches per echogram for training:', num_patches_per_train_echogram )\n",
        "\n",
        "#---Test set---\n",
        "generators_test, num_patches_per_test_echogram = generate_patch_batches(test_eg, split_patch_size, output_patch_size,\n",
        "                                                                        data_transforms= data_transform,\n",
        "                                                                        batch_size='full', verbose= False)\n",
        "print('Number of patches per echogram for testing:', num_patches_per_train_echogram )\n",
        "\n",
        "train_patches = 0\n",
        "test_patches = 0\n",
        "for patches in num_patches_per_train_echogram:\n",
        "  train_patches += patches\n",
        "for patches in num_patches_per_test_echogram:\n",
        "  test_patches += patches\n",
        "print('Number of patches in training set:', train_patches)\n",
        "print('Number of patches in test set:', test_patches)\n"
      ],
      "metadata": {
        "id": "0AjCE2nIqMEW",
        "colab": {
          "base_uri": "https://localhost:8080/"
        },
        "outputId": "05677c65-42da-4297-b143-86e3f4dc69ce"
      },
      "id": "0AjCE2nIqMEW",
      "execution_count": 7,
      "outputs": [
        {
          "output_type": "stream",
          "name": "stdout",
          "text": [
            "Number of patches per echogram for training: [np.int64(7), np.int64(21), np.int64(7), np.int64(8), np.int64(10), np.int64(16), np.int64(9), np.int64(7)]\n",
            "Number of patches per echogram for testing: [np.int64(7), np.int64(21), np.int64(7), np.int64(8), np.int64(10), np.int64(16), np.int64(9), np.int64(7)]\n",
            "Number of patches in training set: 85\n",
            "Number of patches in test set: 24\n"
          ]
        }
      ]
    },
    {
      "cell_type": "markdown",
      "source": [
        "# Dataloader"
      ],
      "metadata": {
        "id": "Nn7zdvqooFeU"
      },
      "id": "Nn7zdvqooFeU"
    },
    {
      "cell_type": "code",
      "source": [
        "from Inform_project_new.data.echosounder_data.dataloader import BatchGeneratorDataset, GroupedGenerator, group_generators_by_patch_limit\n",
        "from Inform_project_new.adaptation_method.model_config import Configuration\n",
        "from torch.utils.data import DataLoader\n",
        "import torch\n",
        "import numpy as np\n",
        "\n",
        "\n",
        "run = Configuration()\n",
        "#---Training set---\n",
        "print('-------Dimensions for Training set-------------')\n",
        "grouped_generator_fns, grouped_patch_count = group_generators_by_patch_limit(train_generators,\n",
        "                                                                             num_patches_per_train_echogram,\n",
        "                                                                             64)\n",
        "train_dataset = BatchGeneratorDataset(grouped_generator_fns)\n",
        "train_loader = DataLoader(train_dataset, batch_size = None, pin_memory=True)\n",
        "\n",
        "for label, data, mask in train_loader:\n",
        "  print(data.shape)\n",
        "\n"
      ],
      "metadata": {
        "colab": {
          "base_uri": "https://localhost:8080/",
          "height": 228
        },
        "id": "8gf7FSfMVCmv",
        "outputId": "4231711a-ef5d-4350-db7c-651b789254c2"
      },
      "id": "8gf7FSfMVCmv",
      "execution_count": 8,
      "outputs": [
        {
          "output_type": "stream",
          "name": "stderr",
          "text": [
            "\u001b[34m\u001b[1mwandb\u001b[0m: Currently logged in as: \u001b[33marangan18\u001b[0m (\u001b[33marangan18-university-of-oslo\u001b[0m) to \u001b[32mhttps://api.wandb.ai\u001b[0m. Use \u001b[1m`wandb login --relogin`\u001b[0m to force relogin\n"
          ]
        },
        {
          "output_type": "display_data",
          "data": {
            "text/plain": [
              "<IPython.core.display.HTML object>"
            ],
            "text/html": [
              "Tracking run with wandb version 0.21.1"
            ]
          },
          "metadata": {}
        },
        {
          "output_type": "display_data",
          "data": {
            "text/plain": [
              "<IPython.core.display.HTML object>"
            ],
            "text/html": [
              "Run data is saved locally in <code>/content/wandb/run-20250825_175353-0qrnazo1</code>"
            ]
          },
          "metadata": {}
        },
        {
          "output_type": "display_data",
          "data": {
            "text/plain": [
              "<IPython.core.display.HTML object>"
            ],
            "text/html": [
              "Syncing run <strong><a href='https://wandb.ai/arangan18-university-of-oslo/Adapter/runs/0qrnazo1' target=\"_blank\">_run</a></strong> to <a href='https://wandb.ai/arangan18-university-of-oslo/Adapter' target=\"_blank\">Weights & Biases</a> (<a href='https://wandb.me/developer-guide' target=\"_blank\">docs</a>)<br>"
            ]
          },
          "metadata": {}
        },
        {
          "output_type": "display_data",
          "data": {
            "text/plain": [
              "<IPython.core.display.HTML object>"
            ],
            "text/html": [
              " View project at <a href='https://wandb.ai/arangan18-university-of-oslo/Adapter' target=\"_blank\">https://wandb.ai/arangan18-university-of-oslo/Adapter</a>"
            ]
          },
          "metadata": {}
        },
        {
          "output_type": "display_data",
          "data": {
            "text/plain": [
              "<IPython.core.display.HTML object>"
            ],
            "text/html": [
              " View run at <a href='https://wandb.ai/arangan18-university-of-oslo/Adapter/runs/0qrnazo1' target=\"_blank\">https://wandb.ai/arangan18-university-of-oslo/Adapter/runs/0qrnazo1</a>"
            ]
          },
          "metadata": {}
        },
        {
          "output_type": "stream",
          "name": "stdout",
          "text": [
            "-------Dimensions for Training set-------------\n"
          ]
        },
        {
          "output_type": "stream",
          "name": "stderr",
          "text": [
            "/usr/local/lib/python3.12/dist-packages/torch/utils/data/dataloader.py:666: UserWarning: 'pin_memory' argument is set as true but no accelerator is found, then device pinned memory won't be used.\n",
            "  warnings.warn(warn_msg)\n"
          ]
        },
        {
          "output_type": "stream",
          "name": "stdout",
          "text": [
            "torch.Size([53, 6, 448, 448])\n",
            "torch.Size([32, 6, 448, 448])\n"
          ]
        }
      ]
    },
    {
      "cell_type": "code",
      "source": [
        "#---Test Set---\n",
        "print('-------Dimensions for Test set-------------')\n",
        "grouped_generator_fns_test, grouped_patch_count_test = group_generators_by_patch_limit(generators_test,\n",
        "                                                                                       num_patches_per_test_echogram,\n",
        "                                                                                       64)\n",
        "test_dataset = BatchGeneratorDataset(grouped_generator_fns_test)\n",
        "\n",
        "test_loader = DataLoader(test_dataset, batch_size = None, pin_memory= True)\n",
        "for label, data, mask in test_loader:\n",
        "  print(data.shape)\n",
        "\n"
      ],
      "metadata": {
        "colab": {
          "base_uri": "https://localhost:8080/"
        },
        "id": "MGA_e50BHE_q",
        "outputId": "bf76da73-b1b7-42d2-f47f-5224a725b5a2"
      },
      "id": "MGA_e50BHE_q",
      "execution_count": 9,
      "outputs": [
        {
          "output_type": "stream",
          "name": "stdout",
          "text": [
            "-------Dimensions for Test set-------------\n",
            "torch.Size([24, 6, 448, 448])\n"
          ]
        }
      ]
    },
    {
      "cell_type": "code",
      "source": [
        "torch.cuda.empty_cache()\n",
        "!nvidia-smi"
      ],
      "metadata": {
        "colab": {
          "base_uri": "https://localhost:8080/"
        },
        "id": "JLX1waGCmsLn",
        "outputId": "46a3e2c3-3ca6-4aff-a197-fecc4d29b6b0"
      },
      "id": "JLX1waGCmsLn",
      "execution_count": 10,
      "outputs": [
        {
          "output_type": "stream",
          "name": "stdout",
          "text": [
            "/bin/bash: line 1: nvidia-smi: command not found\n"
          ]
        }
      ]
    },
    {
      "cell_type": "code",
      "execution_count": 11,
      "id": "8c7ff4ed",
      "metadata": {
        "id": "8c7ff4ed",
        "outputId": "b0226e28-4e8a-438c-e526-4f8223a683dd",
        "colab": {
          "base_uri": "https://localhost:8080/",
          "height": 157
        }
      },
      "outputs": [
        {
          "output_type": "execute_result",
          "data": {
            "text/plain": [
              "\"\\n#from adaptation_method.train_autoencoder import train_val_encoder\\nfrom Inform_project_new.adaptation_method.train_autoencoder import train_val_encoder, plot_loss\\nfrom Inform_project_new.adaptation_method.Autoencoder import ResNetAutoEncoder\\nimport torch.optim as optim\\nimport torch.nn as nn\\n\\n#For Logging\\nrun = Configuration(model_name = 'ResNetAutoEncoder')\\n\\n#Instantiating model\\nmodel = ResNetAutoEncoder()\\n\\n# Defining Loss function and optimizer\\nLoss_func = nn.MSELoss()\\n\\noptimizer = optim.Adam(filter(lambda p: p.requires_grad, model.parameters()),\\n                       lr= run.config['learning_rate'],\\n                       weight_decay= run.config['Weight_decay']\\n)\\n\\nencoded, avg_loss_train, val_encoded, avg_loss_val, epoch_stop = train_val_encoder(model, optimizer, Loss_func, run.config['epochs'], train_loader, test_loader, run)\\n\\nplot_loss(run.config['epochs'], avg_loss_train, avg_loss_val, epoch_stop)\\n\""
            ],
            "application/vnd.google.colaboratory.intrinsic+json": {
              "type": "string"
            }
          },
          "metadata": {},
          "execution_count": 11
        }
      ],
      "source": [
        "\"\"\"\n",
        "#from adaptation_method.train_autoencoder import train_val_encoder\n",
        "from Inform_project_new.adaptation_method.train_autoencoder import train_val_encoder, plot_loss\n",
        "from Inform_project_new.adaptation_method.Autoencoder import ResNetAutoEncoder\n",
        "import torch.optim as optim\n",
        "import torch.nn as nn\n",
        "\n",
        "#For Logging\n",
        "run = Configuration(model_name = 'ResNetAutoEncoder')\n",
        "\n",
        "#Instantiating model\n",
        "model = ResNetAutoEncoder()\n",
        "\n",
        "# Defining Loss function and optimizer\n",
        "Loss_func = nn.MSELoss()\n",
        "\n",
        "optimizer = optim.Adam(filter(lambda p: p.requires_grad, model.parameters()),\n",
        "                       lr= run.config['learning_rate'],\n",
        "                       weight_decay= run.config['Weight_decay']\n",
        ")\n",
        "\n",
        "encoded, avg_loss_train, val_encoded, avg_loss_val, epoch_stop = train_val_encoder(model, optimizer, Loss_func, run.config['epochs'], train_loader, test_loader, run)\n",
        "\n",
        "plot_loss(run.config['epochs'], avg_loss_train, avg_loss_val, epoch_stop)\n",
        "\"\"\"\n"
      ]
    },
    {
      "cell_type": "code",
      "execution_count": 12,
      "id": "ae650b85",
      "metadata": {
        "id": "ae650b85",
        "outputId": "d1abf7b9-e35f-4eb4-80c5-bb953e4ca614",
        "colab": {
          "base_uri": "https://localhost:8080/",
          "height": 1000
        }
      },
      "outputs": [
        {
          "output_type": "display_data",
          "data": {
            "text/plain": [
              "<IPython.core.display.HTML object>"
            ],
            "text/html": [
              "Finishing previous runs because reinit is set to 'default'."
            ]
          },
          "metadata": {}
        },
        {
          "output_type": "display_data",
          "data": {
            "text/plain": [
              "<IPython.core.display.HTML object>"
            ],
            "text/html": []
          },
          "metadata": {}
        },
        {
          "output_type": "display_data",
          "data": {
            "text/plain": [
              "<IPython.core.display.HTML object>"
            ],
            "text/html": [
              " View run <strong style=\"color:#cdcd00\">_run</strong> at: <a href='https://wandb.ai/arangan18-university-of-oslo/Adapter/runs/0qrnazo1' target=\"_blank\">https://wandb.ai/arangan18-university-of-oslo/Adapter/runs/0qrnazo1</a><br> View project at: <a href='https://wandb.ai/arangan18-university-of-oslo/Adapter' target=\"_blank\">https://wandb.ai/arangan18-university-of-oslo/Adapter</a><br>Synced 5 W&B file(s), 0 media file(s), 0 artifact file(s) and 0 other file(s)"
            ]
          },
          "metadata": {}
        },
        {
          "output_type": "display_data",
          "data": {
            "text/plain": [
              "<IPython.core.display.HTML object>"
            ],
            "text/html": [
              "Find logs at: <code>./wandb/run-20250825_175353-0qrnazo1/logs</code>"
            ]
          },
          "metadata": {}
        },
        {
          "output_type": "display_data",
          "data": {
            "text/plain": [
              "<IPython.core.display.HTML object>"
            ],
            "text/html": [
              "Tracking run with wandb version 0.21.1"
            ]
          },
          "metadata": {}
        },
        {
          "output_type": "display_data",
          "data": {
            "text/plain": [
              "<IPython.core.display.HTML object>"
            ],
            "text/html": [
              "Run data is saved locally in <code>/content/wandb/run-20250825_175425-mwc85q6c</code>"
            ]
          },
          "metadata": {}
        },
        {
          "output_type": "display_data",
          "data": {
            "text/plain": [
              "<IPython.core.display.HTML object>"
            ],
            "text/html": [
              "Syncing run <strong><a href='https://wandb.ai/arangan18-university-of-oslo/Adapter/runs/mwc85q6c' target=\"_blank\">Autoencoder_run</a></strong> to <a href='https://wandb.ai/arangan18-university-of-oslo/Adapter' target=\"_blank\">Weights & Biases</a> (<a href='https://wandb.me/developer-guide' target=\"_blank\">docs</a>)<br>"
            ]
          },
          "metadata": {}
        },
        {
          "output_type": "display_data",
          "data": {
            "text/plain": [
              "<IPython.core.display.HTML object>"
            ],
            "text/html": [
              " View project at <a href='https://wandb.ai/arangan18-university-of-oslo/Adapter' target=\"_blank\">https://wandb.ai/arangan18-university-of-oslo/Adapter</a>"
            ]
          },
          "metadata": {}
        },
        {
          "output_type": "display_data",
          "data": {
            "text/plain": [
              "<IPython.core.display.HTML object>"
            ],
            "text/html": [
              " View run at <a href='https://wandb.ai/arangan18-university-of-oslo/Adapter/runs/mwc85q6c' target=\"_blank\">https://wandb.ai/arangan18-university-of-oslo/Adapter/runs/mwc85q6c</a>"
            ]
          },
          "metadata": {}
        },
        {
          "output_type": "stream",
          "name": "stderr",
          "text": [
            "Epoch 1/30: 100%|██████████| 2/2 [01:09<00:00, 34.86s/it]\n"
          ]
        },
        {
          "output_type": "stream",
          "name": "stdout",
          "text": [
            "Train encodings: min=0.0003, max=0.9993\n",
            "Val latents: min=0.0001, max=0.9999\n",
            " Train Loss = 0.1304 ,Validation Loss = 0.1211\n"
          ]
        },
        {
          "output_type": "stream",
          "name": "stderr",
          "text": [
            "Epoch 2/30: 100%|██████████| 2/2 [01:01<00:00, 30.93s/it]\n"
          ]
        },
        {
          "output_type": "stream",
          "name": "stdout",
          "text": [
            "Train encodings: min=0.0000, max=1.0000\n",
            "Val latents: min=0.0000, max=1.0000\n",
            " Train Loss = 0.1023 ,Validation Loss = 0.0953\n"
          ]
        },
        {
          "output_type": "stream",
          "name": "stderr",
          "text": [
            "Epoch 3/30: 100%|██████████| 2/2 [01:02<00:00, 31.07s/it]\n"
          ]
        },
        {
          "output_type": "stream",
          "name": "stdout",
          "text": [
            "Train encodings: min=0.0000, max=1.0000\n",
            "Val latents: min=0.0000, max=0.9999\n",
            " Train Loss = 0.0797 ,Validation Loss = 0.0797\n"
          ]
        },
        {
          "output_type": "stream",
          "name": "stderr",
          "text": [
            "Epoch 4/30: 100%|██████████| 2/2 [01:00<00:00, 30.24s/it]\n"
          ]
        },
        {
          "output_type": "stream",
          "name": "stdout",
          "text": [
            "Train encodings: min=0.0001, max=0.9999\n",
            "Val latents: min=0.0001, max=0.9999\n",
            " Train Loss = 0.0620 ,Validation Loss = 0.0647\n"
          ]
        },
        {
          "output_type": "stream",
          "name": "stderr",
          "text": [
            "Epoch 5/30: 100%|██████████| 2/2 [01:01<00:00, 30.89s/it]\n"
          ]
        },
        {
          "output_type": "stream",
          "name": "stdout",
          "text": [
            "Train encodings: min=0.0002, max=0.9997\n",
            "Val latents: min=0.0001, max=0.9998\n",
            " Train Loss = 0.0491 ,Validation Loss = 0.0464\n"
          ]
        },
        {
          "output_type": "stream",
          "name": "stderr",
          "text": [
            "Epoch 6/30: 100%|██████████| 2/2 [01:04<00:00, 32.23s/it]\n"
          ]
        },
        {
          "output_type": "stream",
          "name": "stdout",
          "text": [
            "Train encodings: min=0.0002, max=0.9996\n",
            "Val latents: min=0.0002, max=0.9997\n",
            " Train Loss = 0.0395 ,Validation Loss = 0.0450\n"
          ]
        },
        {
          "output_type": "stream",
          "name": "stderr",
          "text": [
            "Epoch 7/30: 100%|██████████| 2/2 [01:05<00:00, 32.54s/it]\n"
          ]
        },
        {
          "output_type": "stream",
          "name": "stdout",
          "text": [
            "Train encodings: min=0.0003, max=0.9993\n",
            "Val latents: min=0.0002, max=0.9995\n",
            " Train Loss = 0.0333 ,Validation Loss = 0.0393\n"
          ]
        },
        {
          "output_type": "stream",
          "name": "stderr",
          "text": [
            "Epoch 8/30: 100%|██████████| 2/2 [01:00<00:00, 30.36s/it]\n"
          ]
        },
        {
          "output_type": "stream",
          "name": "stdout",
          "text": [
            "Train encodings: min=0.0004, max=0.9991\n",
            "Val latents: min=0.0003, max=0.9994\n",
            " Train Loss = 0.0319 ,Validation Loss = 0.0352\n"
          ]
        },
        {
          "output_type": "stream",
          "name": "stderr",
          "text": [
            "Epoch 9/30: 100%|██████████| 2/2 [01:00<00:00, 30.11s/it]\n"
          ]
        },
        {
          "output_type": "stream",
          "name": "stdout",
          "text": [
            "Train encodings: min=0.0006, max=0.9989\n",
            "Val latents: min=0.0004, max=0.9992\n",
            " Train Loss = 0.0290 ,Validation Loss = 0.0292\n"
          ]
        },
        {
          "output_type": "stream",
          "name": "stderr",
          "text": [
            "Epoch 10/30: 100%|██████████| 2/2 [01:01<00:00, 30.59s/it]\n"
          ]
        },
        {
          "output_type": "stream",
          "name": "stdout",
          "text": [
            "Train encodings: min=0.0007, max=0.9987\n",
            "Val latents: min=0.0005, max=0.9991\n",
            " Train Loss = 0.0191 ,Validation Loss = 0.0301\n"
          ]
        },
        {
          "output_type": "stream",
          "name": "stderr",
          "text": [
            "Epoch 11/30: 100%|██████████| 2/2 [01:02<00:00, 31.23s/it]\n"
          ]
        },
        {
          "output_type": "stream",
          "name": "stdout",
          "text": [
            "Train encodings: min=0.0007, max=0.9986\n",
            "Val latents: min=0.0004, max=0.9991\n",
            " Train Loss = 0.0252 ,Validation Loss = 0.0243\n"
          ]
        },
        {
          "output_type": "stream",
          "name": "stderr",
          "text": [
            "Epoch 12/30: 100%|██████████| 2/2 [01:00<00:00, 30.38s/it]\n"
          ]
        },
        {
          "output_type": "stream",
          "name": "stdout",
          "text": [
            "Train encodings: min=0.0007, max=0.9986\n",
            "Val latents: min=0.0004, max=0.9992\n",
            " Train Loss = 0.0239 ,Validation Loss = 0.0274\n"
          ]
        },
        {
          "output_type": "stream",
          "name": "stderr",
          "text": [
            "Epoch 13/30: 100%|██████████| 2/2 [01:01<00:00, 30.73s/it]\n"
          ]
        },
        {
          "output_type": "stream",
          "name": "stdout",
          "text": [
            "Train encodings: min=0.0007, max=0.9987\n",
            "Val latents: min=0.0004, max=0.9992\n",
            " Train Loss = 0.0200 ,Validation Loss = 0.0204\n"
          ]
        },
        {
          "output_type": "stream",
          "name": "stderr",
          "text": [
            "Epoch 14/30: 100%|██████████| 2/2 [01:00<00:00, 30.40s/it]\n"
          ]
        },
        {
          "output_type": "stream",
          "name": "stdout",
          "text": [
            "Train encodings: min=0.0006, max=0.9987\n",
            "Val latents: min=0.0003, max=0.9994\n",
            " Train Loss = 0.0188 ,Validation Loss = 0.0161\n"
          ]
        },
        {
          "output_type": "stream",
          "name": "stderr",
          "text": [
            "Epoch 15/30: 100%|██████████| 2/2 [01:04<00:00, 32.10s/it]\n"
          ]
        },
        {
          "output_type": "stream",
          "name": "stdout",
          "text": [
            "Train encodings: min=0.0005, max=0.9991\n",
            "Val latents: min=0.0002, max=0.9996\n",
            " Train Loss = 0.0171 ,Validation Loss = 0.0247\n"
          ]
        },
        {
          "output_type": "stream",
          "name": "stderr",
          "text": [
            "Epoch 16/30: 100%|██████████| 2/2 [01:04<00:00, 32.10s/it]\n"
          ]
        },
        {
          "output_type": "stream",
          "name": "stdout",
          "text": [
            "Train encodings: min=0.0003, max=0.9994\n",
            "Val latents: min=0.0001, max=0.9997\n",
            " Train Loss = 0.0227 ,Validation Loss = 0.0162\n"
          ]
        },
        {
          "output_type": "stream",
          "name": "stderr",
          "text": [
            "Epoch 17/30: 100%|██████████| 2/2 [01:00<00:00, 30.35s/it]\n"
          ]
        },
        {
          "output_type": "stream",
          "name": "stdout",
          "text": [
            "Train encodings: min=0.0002, max=0.9996\n",
            "Val latents: min=0.0001, max=0.9997\n",
            " Train Loss = 0.0144 ,Validation Loss = 0.0215\n"
          ]
        },
        {
          "output_type": "stream",
          "name": "stderr",
          "text": [
            "Epoch 18/30: 100%|██████████| 2/2 [01:00<00:00, 30.40s/it]\n"
          ]
        },
        {
          "output_type": "stream",
          "name": "stdout",
          "text": [
            "Train encodings: min=0.0002, max=0.9996\n",
            "Val latents: min=0.0001, max=0.9997\n",
            " Train Loss = 0.0162 ,Validation Loss = 0.0198\n"
          ]
        },
        {
          "output_type": "stream",
          "name": "stderr",
          "text": [
            "Epoch 19/30: 100%|██████████| 2/2 [01:00<00:00, 30.46s/it]\n"
          ]
        },
        {
          "output_type": "stream",
          "name": "stdout",
          "text": [
            "Train encodings: min=0.0001, max=0.9996\n",
            "Val latents: min=0.0001, max=0.9997\n",
            " Train Loss = 0.0141 ,Validation Loss = 0.0164\n"
          ]
        },
        {
          "output_type": "stream",
          "name": "stderr",
          "text": [
            "Epoch 20/30: 100%|██████████| 2/2 [01:00<00:00, 30.44s/it]\n"
          ]
        },
        {
          "output_type": "stream",
          "name": "stdout",
          "text": [
            "Train encodings: min=0.0001, max=0.9997\n",
            "Val latents: min=0.0001, max=0.9997\n",
            " Train Loss = 0.0154 ,Validation Loss = 0.0177\n"
          ]
        },
        {
          "output_type": "stream",
          "name": "stderr",
          "text": [
            "Epoch 21/30: 100%|██████████| 2/2 [01:00<00:00, 30.43s/it]\n"
          ]
        },
        {
          "output_type": "stream",
          "name": "stdout",
          "text": [
            "Train encodings: min=0.0001, max=0.9997\n",
            "Val latents: min=0.0001, max=0.9997\n",
            " Train Loss = 0.0135 ,Validation Loss = 0.0159\n"
          ]
        },
        {
          "output_type": "stream",
          "name": "stderr",
          "text": [
            "Epoch 22/30: 100%|██████████| 2/2 [01:00<00:00, 30.48s/it]\n"
          ]
        },
        {
          "output_type": "stream",
          "name": "stdout",
          "text": [
            "Train encodings: min=0.0001, max=0.9998\n",
            "Val latents: min=0.0001, max=0.9998\n",
            " Train Loss = 0.0153 ,Validation Loss = 0.0122\n"
          ]
        },
        {
          "output_type": "stream",
          "name": "stderr",
          "text": [
            "Epoch 23/30: 100%|██████████| 2/2 [01:00<00:00, 30.40s/it]\n"
          ]
        },
        {
          "output_type": "stream",
          "name": "stdout",
          "text": [
            "Train encodings: min=0.0001, max=0.9999\n",
            "Val latents: min=0.0001, max=0.9999\n",
            " Train Loss = 0.0147 ,Validation Loss = 0.0121\n"
          ]
        },
        {
          "output_type": "stream",
          "name": "stderr",
          "text": [
            "Epoch 24/30: 100%|██████████| 2/2 [01:11<00:00, 35.56s/it]\n"
          ]
        },
        {
          "output_type": "stream",
          "name": "stdout",
          "text": [
            "Train encodings: min=0.0001, max=0.9998\n",
            "Val latents: min=0.0001, max=0.9999\n",
            " Train Loss = 0.0134 ,Validation Loss = 0.0151\n"
          ]
        },
        {
          "output_type": "stream",
          "name": "stderr",
          "text": [
            "Epoch 25/30: 100%|██████████| 2/2 [01:00<00:00, 30.42s/it]\n"
          ]
        },
        {
          "output_type": "stream",
          "name": "stdout",
          "text": [
            "Train encodings: min=0.0001, max=0.9999\n",
            "Val latents: min=0.0000, max=0.9999\n",
            " Train Loss = 0.0138 ,Validation Loss = 0.0113\n"
          ]
        },
        {
          "output_type": "stream",
          "name": "stderr",
          "text": [
            "Epoch 26/30: 100%|██████████| 2/2 [01:00<00:00, 30.26s/it]\n"
          ]
        },
        {
          "output_type": "stream",
          "name": "stdout",
          "text": [
            "Train encodings: min=0.0001, max=0.9999\n",
            "Val latents: min=0.0000, max=0.9999\n",
            " Train Loss = 0.0131 ,Validation Loss = 0.0128\n"
          ]
        },
        {
          "output_type": "stream",
          "name": "stderr",
          "text": [
            "Epoch 27/30: 100%|██████████| 2/2 [01:00<00:00, 30.25s/it]\n"
          ]
        },
        {
          "output_type": "stream",
          "name": "stdout",
          "text": [
            "Train encodings: min=0.0000, max=0.9999\n",
            "Val latents: min=0.0000, max=0.9999\n",
            " Train Loss = 0.0127 ,Validation Loss = 0.0106\n"
          ]
        },
        {
          "output_type": "stream",
          "name": "stderr",
          "text": [
            "Epoch 28/30: 100%|██████████| 2/2 [01:01<00:00, 30.56s/it]\n"
          ]
        },
        {
          "output_type": "stream",
          "name": "stdout",
          "text": [
            "Train encodings: min=0.0000, max=0.9999\n",
            "Val latents: min=0.0000, max=0.9999\n",
            " Train Loss = 0.0114 ,Validation Loss = 0.0103\n"
          ]
        },
        {
          "output_type": "stream",
          "name": "stderr",
          "text": [
            "Epoch 29/30: 100%|██████████| 2/2 [01:00<00:00, 30.50s/it]\n"
          ]
        },
        {
          "output_type": "stream",
          "name": "stdout",
          "text": [
            "Train encodings: min=0.0000, max=0.9999\n",
            "Val latents: min=0.0000, max=0.9999\n",
            " Train Loss = 0.0121 ,Validation Loss = 0.0123\n"
          ]
        },
        {
          "output_type": "stream",
          "name": "stderr",
          "text": [
            "Epoch 30/30: 100%|██████████| 2/2 [01:00<00:00, 30.05s/it]\n"
          ]
        },
        {
          "output_type": "stream",
          "name": "stdout",
          "text": [
            "Train encodings: min=0.0000, max=0.9999\n",
            "Val latents: min=0.0000, max=0.9999\n",
            " Train Loss = 0.0113 ,Validation Loss = 0.0110\n"
          ]
        },
        {
          "output_type": "display_data",
          "data": {
            "text/plain": [
              "<IPython.core.display.HTML object>"
            ],
            "text/html": []
          },
          "metadata": {}
        },
        {
          "output_type": "display_data",
          "data": {
            "text/plain": [
              "<IPython.core.display.HTML object>"
            ],
            "text/html": [
              "<br>    <style><br>        .wandb-row {<br>            display: flex;<br>            flex-direction: row;<br>            flex-wrap: wrap;<br>            justify-content: flex-start;<br>            width: 100%;<br>        }<br>        .wandb-col {<br>            display: flex;<br>            flex-direction: column;<br>            flex-basis: 100%;<br>            flex: 1;<br>            padding: 10px;<br>        }<br>    </style><br><div class=\"wandb-row\"><div class=\"wandb-col\"><h3>Run history:</h3><br/><table class=\"wandb\"><tr><td>epoch</td><td>▁▁▁▂▂▂▂▃▃▃▃▄▄▄▄▅▅▅▅▆▆▆▆▇▇▇▇███</td></tr><tr><td>train_loss</td><td>█▆▅▄▃▃▂▂▂▁▂▂▂▁▁▂▁▁▁▁▁▁▁▁▁▁▁▁▁▁</td></tr><tr><td>val_loss</td><td>█▆▅▄▃▃▃▃▂▂▂▂▂▁▂▁▂▂▁▁▁▁▁▁▁▁▁▁▁▁</td></tr></table><br/></div><div class=\"wandb-col\"><h3>Run summary:</h3><br/><table class=\"wandb\"><tr><td>epoch</td><td>30</td></tr><tr><td>train_loss</td><td>0.01129</td></tr><tr><td>val_loss</td><td>0.01102</td></tr></table><br/></div></div>"
            ]
          },
          "metadata": {}
        },
        {
          "output_type": "display_data",
          "data": {
            "text/plain": [
              "<IPython.core.display.HTML object>"
            ],
            "text/html": [
              " View run <strong style=\"color:#cdcd00\">Autoencoder_run</strong> at: <a href='https://wandb.ai/arangan18-university-of-oslo/Adapter/runs/mwc85q6c' target=\"_blank\">https://wandb.ai/arangan18-university-of-oslo/Adapter/runs/mwc85q6c</a><br> View project at: <a href='https://wandb.ai/arangan18-university-of-oslo/Adapter' target=\"_blank\">https://wandb.ai/arangan18-university-of-oslo/Adapter</a><br>Synced 5 W&B file(s), 0 media file(s), 0 artifact file(s) and 0 other file(s)"
            ]
          },
          "metadata": {}
        },
        {
          "output_type": "display_data",
          "data": {
            "text/plain": [
              "<IPython.core.display.HTML object>"
            ],
            "text/html": [
              "Find logs at: <code>./wandb/run-20250825_175425-mwc85q6c/logs</code>"
            ]
          },
          "metadata": {}
        },
        {
          "output_type": "display_data",
          "data": {
            "text/plain": [
              "<Figure size 1200x800 with 1 Axes>"
            ],
            "image/png": "[encoded data removed]"
          },
          "metadata": {}
        }
      ],
      "source": [
        "from Inform_project_new.adaptation_method.train_autoencoder import train_val_encoder, plot_loss\n",
        "from Inform_project_new.adaptation_method.Autoencoder import Autoencoder\n",
        "import torch.nn as nn\n",
        "import torch.optim as optim\n",
        "\n",
        "#For logging\n",
        "run = Configuration(model_name = 'Autoencoder')\n",
        "\n",
        "#Instantiating model\n",
        "model = Autoencoder()\n",
        "\n",
        "\n",
        "\n",
        "# Defining Loss function and optimizer\n",
        "Loss_func = nn.MSELoss()\n",
        "optimizer = optim.Adam(model.parameters(), lr = run.config['learning_rate'], weight_decay = run.config['Weight_decay'])\n",
        "\n",
        "latent,  val_latent, avg_loss_train, avg_loss_val, stop_epoch = train_val_encoder(model, optimizer, Loss_func, run.config['epochs'], train_loader, test_loader, run)\n",
        "\n",
        "plot_loss(run.config['epochs'], avg_loss_train, avg_loss_val, stop_epoch)\n"
      ]
    },
    {
      "cell_type": "code",
      "execution_count": 13,
      "id": "af6c67a1",
      "metadata": {
        "id": "af6c67a1",
        "outputId": "29fbe6b6-acf2-4427-85e6-da0ec651a867",
        "colab": {
          "base_uri": "https://localhost:8080/",
          "height": 211
        }
      },
      "outputs": [
        {
          "output_type": "error",
          "ename": "RuntimeError",
          "evalue": "permute(sparse_coo): number of dimensions in the tensor input does not match the length of the desired ordering of dimensions i.e. input.dim() = 4 is not equal to len(dims) = 3",
          "traceback": [
            "\u001b[0;31m---------------------------------------------------------------------------\u001b[0m",
            "\u001b[0;31mRuntimeError\u001b[0m                              Traceback (most recent call last)",
            "\u001b[0;32m/tmp/ipython-input-1924315757.py\u001b[0m in \u001b[0;36m<cell line: 0>\u001b[0;34m()\u001b[0m\n\u001b[1;32m      1\u001b[0m \u001b[0mencoder\u001b[0m \u001b[0;34m=\u001b[0m \u001b[0mlatent\u001b[0m\u001b[0;34m.\u001b[0m\u001b[0msqueeze\u001b[0m\u001b[0;34m(\u001b[0m\u001b[0;36m0\u001b[0m\u001b[0;34m)\u001b[0m\u001b[0;34m\u001b[0m\u001b[0;34m\u001b[0m\u001b[0m\n\u001b[0;32m----> 2\u001b[0;31m \u001b[0mencoder_transpose\u001b[0m \u001b[0;34m=\u001b[0m \u001b[0mencoder\u001b[0m\u001b[0;34m.\u001b[0m\u001b[0mpermute\u001b[0m\u001b[0;34m(\u001b[0m\u001b[0;36m2\u001b[0m\u001b[0;34m,\u001b[0m\u001b[0;36m1\u001b[0m\u001b[0;34m,\u001b[0m\u001b[0;36m0\u001b[0m\u001b[0;34m)\u001b[0m\u001b[0;34m\u001b[0m\u001b[0;34m\u001b[0m\u001b[0m\n\u001b[0m\u001b[1;32m      3\u001b[0m \u001b[0mencoder\u001b[0m \u001b[0;34m=\u001b[0m \u001b[0mencoder_transpose\u001b[0m\u001b[0;34m.\u001b[0m\u001b[0mdetach\u001b[0m\u001b[0;34m(\u001b[0m\u001b[0;34m)\u001b[0m\u001b[0;34m.\u001b[0m\u001b[0mnumpy\u001b[0m\u001b[0;34m(\u001b[0m\u001b[0;34m)\u001b[0m\u001b[0;34m\u001b[0m\u001b[0;34m\u001b[0m\u001b[0m\n\u001b[1;32m      4\u001b[0m \u001b[0mprint\u001b[0m\u001b[0;34m(\u001b[0m\u001b[0mencoder\u001b[0m\u001b[0;34m.\u001b[0m\u001b[0mshape\u001b[0m\u001b[0;34m)\u001b[0m\u001b[0;34m\u001b[0m\u001b[0;34m\u001b[0m\u001b[0m\n",
            "\u001b[0;31mRuntimeError\u001b[0m: permute(sparse_coo): number of dimensions in the tensor input does not match the length of the desired ordering of dimensions i.e. input.dim() = 4 is not equal to len(dims) = 3"
          ]
        }
      ],
      "source": [
        "encoder = latent.squeeze(0)\n",
        "encoder_transpose = encoder.permute(2,1,0)\n",
        "encoder = encoder_transpose.detach().numpy()\n",
        "print(encoder.shape)"
      ]
    },
    {
      "cell_type": "code",
      "execution_count": null,
      "id": "b0f2ab4e",
      "metadata": {
        "id": "b0f2ab4e"
      },
      "outputs": [],
      "source": []
    }
  ],
  "metadata": {
    "kernelspec": {
      "display_name": "Python 3",
      "name": "python3"
    },
    "language_info": {
      "codemirror_mode": {
        "name": "ipython",
        "version": 3
      },
      "file_extension": ".py",
      "mimetype": "text/x-python",
      "name": "python",
      "nbconvert_exporter": "python",
      "pygments_lexer": "ipython3",
      "version": "3.12.5"
    },
    "colab": {
      "provenance": [],
      "gpuType": "T4"
    },
    "accelerator": "GPU"
  },
  "nbformat": 4,
  "nbformat_minor": 5
}