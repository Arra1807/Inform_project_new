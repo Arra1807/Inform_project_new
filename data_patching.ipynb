{
  "cells": [
    {
      "cell_type": "code",
      "source": [
        "from google.colab import drive\n",
        "drive.mount('/content/drive')"
      ],
      "metadata": {
        "colab": {
          "base_uri": "https://localhost:8080/"
        },
        "id": "herd9waS3JGo",
        "outputId": "5563a3ff-bb81-4d7a-f34a-26b087b546cd"
      },
      "id": "herd9waS3JGo",
      "execution_count": 1,
      "outputs": [
        {
          "output_type": "stream",
          "name": "stdout",
          "text": [
            "Drive already mounted at /content/drive; to attempt to forcibly remount, call drive.mount(\"/content/drive\", force_remount=True).\n"
          ]
        }
      ]
    },
    {
      "cell_type": "code",
      "source": [
        "!git clone https://github.com/Arra1807/Inform_project_new.git"
      ],
      "metadata": {
        "colab": {
          "base_uri": "https://localhost:8080/"
        },
        "id": "Fpzwn-GI3gDu",
        "outputId": "62db4ec4-dea7-4984-a182-10e2c8a400df"
      },
      "id": "Fpzwn-GI3gDu",
      "execution_count": 2,
      "outputs": [
        {
          "output_type": "stream",
          "name": "stdout",
          "text": [
            "fatal: destination path 'Inform_project_new' already exists and is not an empty directory.\n"
          ]
        }
      ]
    },
    {
      "cell_type": "code",
      "source": [
        "!nvidia-smi"
      ],
      "metadata": {
        "colab": {
          "base_uri": "https://localhost:8080/"
        },
        "id": "d72-TcjMOZSG",
        "outputId": "90340e7f-1064-434a-a823-a8b8c48c0e74"
      },
      "id": "d72-TcjMOZSG",
      "execution_count": 3,
      "outputs": [
        {
          "output_type": "stream",
          "name": "stdout",
          "text": [
            "Mon Aug 25 16:12:35 2025       \n",
            "+-----------------------------------------------------------------------------------------+\n",
            "| NVIDIA-SMI 550.54.15              Driver Version: 550.54.15      CUDA Version: 12.4     |\n",
            "|-----------------------------------------+------------------------+----------------------+\n",
            "| GPU  Name                 Persistence-M | Bus-Id          Disp.A | Volatile Uncorr. ECC |\n",
            "| Fan  Temp   Perf          Pwr:Usage/Cap |           Memory-Usage | GPU-Util  Compute M. |\n",
            "|                                         |                        |               MIG M. |\n",
            "|=========================================+========================+======================|\n",
            "|   0  Tesla T4                       Off |   00000000:00:04.0 Off |                    0 |\n",
            "| N/A   68C    P8             12W /   70W |       0MiB /  15360MiB |      0%      Default |\n",
            "|                                         |                        |                  N/A |\n",
            "+-----------------------------------------+------------------------+----------------------+\n",
            "                                                                                         \n",
            "+-----------------------------------------------------------------------------------------+\n",
            "| Processes:                                                                              |\n",
            "|  GPU   GI   CI        PID   Type   Process name                              GPU Memory |\n",
            "|        ID   ID                                                               Usage      |\n",
            "|=========================================================================================|\n",
            "|  No running processes found                                                             |\n",
            "+-----------------------------------------------------------------------------------------+\n"
          ]
        }
      ]
    },
    {
      "cell_type": "markdown",
      "source": [
        "# Load Data"
      ],
      "metadata": {
        "id": "91mBs1WWnyv0"
      },
      "id": "91mBs1WWnyv0"
    },
    {
      "cell_type": "code",
      "execution_count": 4,
      "id": "4dc01af9",
      "metadata": {
        "id": "4dc01af9",
        "colab": {
          "base_uri": "https://localhost:8080/"
        },
        "outputId": "dc363b32-30bc-497d-fb1b-debde91a4438"
      },
      "outputs": [
        {
          "output_type": "stream",
          "name": "stdout",
          "text": [
            "Selected 10 echograms from year 2014\n",
            "Number of echograms: 10\n"
          ]
        }
      ],
      "source": [
        "import numpy as np\n",
        "from Inform_project_new.data.echosounder_data.load_data.get_echograms_2 import get_echograms, count_classes_in_echograms\n",
        "\n",
        "# You can select a specific year or use 'all' to include multiple years.\n",
        "years = 2014\n",
        "minimum_shape = 224\n",
        "tuple_frequencies = (18, 38, 70, 120, 200, 333)\n",
        "echograms = get_echograms(years=years, tuple_frequencies=tuple_frequencies, minimum_shape=minimum_shape)\n",
        "print(f\"Number of echograms: {len(echograms)}\")\n"
      ]
    },
    {
      "cell_type": "markdown",
      "source": [
        "# Split Large Echograms into Train images and Test images"
      ],
      "metadata": {
        "id": "cKDdjleDn8bV"
      },
      "id": "cKDdjleDn8bV"
    },
    {
      "cell_type": "code",
      "source": [
        "import os\n",
        "import random\n",
        "# Randomly split echograms into train/test\n",
        "random.seed(42)  # Set a seed for reproducibility\n",
        "Train_eg = []\n",
        "test_eg = []\n",
        "echogram = random.shuffle(echograms)  # Shuffle echograms randomly\n",
        "for i,echogram in enumerate(echograms):\n",
        "  if i < 0.8*len(echograms):\n",
        "    Train_eg.append(echogram)\n",
        "  else:\n",
        "    test_eg.append(echogram)\n",
        "\n",
        "#Save the echograms to files\n",
        "train_dir = '/content/Inform_project_new/train'\n",
        "test_dir = '/content/Inform_project_new/test'\n",
        "os.makedirs(train_dir, exist_ok=True)\n",
        "os.makedirs(test_dir, exist_ok=True)\n",
        "\n",
        "for i, echogram in enumerate(Train_eg):\n",
        " os.path.join(train_dir, f'echogram_{i}.npy')\n",
        "for i, echogram in enumerate(test_eg):\n",
        "  os.path.join(test_dir, f'echogram_{i}.npy')\n",
        "\n",
        "# Print the number of echograms in each set\n",
        "print('Train Echogram:', len(Train_eg))\n",
        "print('Test Echogram:', len(test_eg))"
      ],
      "metadata": {
        "colab": {
          "base_uri": "https://localhost:8080/"
        },
        "id": "z4AhaZuhNvZF",
        "outputId": "1b80d279-1c01-4507-9f9d-8699a10fb115"
      },
      "id": "z4AhaZuhNvZF",
      "execution_count": 5,
      "outputs": [
        {
          "output_type": "stream",
          "name": "stdout",
          "text": [
            "Train Echogram: 8\n",
            "Test Echogram: 2\n"
          ]
        }
      ]
    },
    {
      "cell_type": "code",
      "source": [
        "%env PYTORCH_CUDA_ALLOC_CONF=expandable_segments:True\n",
        "import torch\n",
        "import gc\n",
        "\n",
        "# Manuell opprydding før trening\n",
        "gc.collect()\n",
        "torch.cuda.empty_cache()\n",
        "\n",
        "# Sjekk og velg riktig device\n",
        "device = torch.device(\"cuda\" if torch.cuda.is_available() else \"cpu\")\n",
        "print(\"Using device:\", device)"
      ],
      "metadata": {
        "colab": {
          "base_uri": "https://localhost:8080/"
        },
        "id": "vGzgzW4ss4BQ",
        "outputId": "da2c420a-dbb2-4bf0-80ae-dc3f914d297c"
      },
      "id": "vGzgzW4ss4BQ",
      "execution_count": 6,
      "outputs": [
        {
          "output_type": "stream",
          "name": "stdout",
          "text": [
            "env: PYTORCH_CUDA_ALLOC_CONF=expandable_segments:True\n",
            "Using device: cuda\n"
          ]
        }
      ]
    },
    {
      "cell_type": "markdown",
      "source": [],
      "metadata": {
        "id": "7yxpmllERM6n"
      },
      "id": "7yxpmllERM6n"
    },
    {
      "cell_type": "code",
      "source": [
        "from Inform_project_new.data.echosounder_data.preprocessing.resize_and_crop import SplitResizeEchogram, generate_patch_batches\n",
        "from Inform_project_new.data.echosounder_data.preprocessing.normalization import db, clip, standardize_min_max\n",
        "\n",
        "\n",
        "data_transform = [db, clip, standardize_min_max]\n",
        "split_patch_size = 448\n",
        "output_patch_size = 448\n",
        "\n",
        "\n",
        "#---Train set---\n",
        "train_generators, num_patches_per_train_echogram = generate_patch_batches(Train_eg, split_patch_size,\n",
        "                                                                          output_patch_size, data_transforms= data_transform,\n",
        "                                                                          batch_size='full', verbose= False)\n",
        "print('Number of patches per echogram for training:', num_patches_per_train_echogram )\n",
        "\n",
        "#---Test set---\n",
        "generators_test, num_patches_per_test_echogram = generate_patch_batches(test_eg, split_patch_size, output_patch_size,\n",
        "                                                                        data_transforms= data_transform,\n",
        "                                                                        batch_size='full', verbose= False)\n",
        "print('Number of patches per echogram for testing:', num_patches_per_train_echogram )\n",
        "\n",
        "print('Number of generators:', len(train_generators))\n",
        "print('Number of generators:', len(generators_test))\n"
      ],
      "metadata": {
        "id": "0AjCE2nIqMEW",
        "colab": {
          "base_uri": "https://localhost:8080/"
        },
        "outputId": "fd3e0469-a5bb-4a74-e111-dd60742e075b"
      },
      "id": "0AjCE2nIqMEW",
      "execution_count": 7,
      "outputs": [
        {
          "output_type": "stream",
          "name": "stdout",
          "text": [
            "Number of patches per echogram for training: [np.int64(10), np.int64(9), np.int64(9), np.int64(21), np.int64(37), np.int64(7), np.int64(7), np.int64(8)]\n",
            "Number of patches per echogram for testing: [np.int64(10), np.int64(9), np.int64(9), np.int64(21), np.int64(37), np.int64(7), np.int64(7), np.int64(8)]\n",
            "Number of generators: 8\n",
            "Number of generators: 2\n"
          ]
        }
      ]
    },
    {
      "cell_type": "markdown",
      "source": [
        "# Dataloader"
      ],
      "metadata": {
        "id": "Nn7zdvqooFeU"
      },
      "id": "Nn7zdvqooFeU"
    },
    {
      "cell_type": "code",
      "source": [
        "from Inform_project_new.data.echosounder_data.dataloader import BatchGeneratorDataset, GroupedGenerator, group_generators_by_patch_limit\n",
        "from Inform_project_new.adaptation_method.model_config import Configuration\n",
        "from torch.utils.data import DataLoader\n",
        "import torch\n",
        "import numpy as np\n",
        "\n",
        "\n",
        "run = Configuration()\n",
        "#---Training set---\n",
        "print('-------Dimensions for Training set-------------')\n",
        "grouped_generator_fns, grouped_patch_count = group_generators_by_patch_limit(train_generators,\n",
        "                                                                             num_patches_per_train_echogram,\n",
        "                                                                             20)\n",
        "train_dataset = BatchGeneratorDataset(grouped_generator_fns)\n",
        "train_loader = DataLoader(train_dataset, batch_size = None, pin_memory=True)\n",
        "print(len(train_loader))\n",
        "for label, data, mask in train_loader:\n",
        "  print(data.shape)\n",
        "\n"
      ],
      "metadata": {
        "colab": {
          "base_uri": "https://localhost:8080/",
          "height": 280
        },
        "id": "8gf7FSfMVCmv",
        "outputId": "3ffdc341-0a0d-4f42-a647-de045463942f"
      },
      "id": "8gf7FSfMVCmv",
      "execution_count": 8,
      "outputs": [
        {
          "output_type": "stream",
          "name": "stderr",
          "text": [
            "\u001b[34m\u001b[1mwandb\u001b[0m: Currently logged in as: \u001b[33marangan18\u001b[0m (\u001b[33marangan18-university-of-oslo\u001b[0m) to \u001b[32mhttps://api.wandb.ai\u001b[0m. Use \u001b[1m`wandb login --relogin`\u001b[0m to force relogin\n"
          ]
        },
        {
          "output_type": "display_data",
          "data": {
            "text/plain": [
              "<IPython.core.display.HTML object>"
            ],
            "text/html": [
              "Tracking run with wandb version 0.21.1"
            ]
          },
          "metadata": {}
        },
        {
          "output_type": "display_data",
          "data": {
            "text/plain": [
              "<IPython.core.display.HTML object>"
            ],
            "text/html": [
              "Run data is saved locally in <code>/content/wandb/run-20250825_161256-l86mtopw</code>"
            ]
          },
          "metadata": {}
        },
        {
          "output_type": "display_data",
          "data": {
            "text/plain": [
              "<IPython.core.display.HTML object>"
            ],
            "text/html": [
              "Syncing run <strong><a href='https://wandb.ai/arangan18-university-of-oslo/Adapter/runs/l86mtopw' target=\"_blank\">_run</a></strong> to <a href='https://wandb.ai/arangan18-university-of-oslo/Adapter' target=\"_blank\">Weights & Biases</a> (<a href='https://wandb.me/developer-guide' target=\"_blank\">docs</a>)<br>"
            ]
          },
          "metadata": {}
        },
        {
          "output_type": "display_data",
          "data": {
            "text/plain": [
              "<IPython.core.display.HTML object>"
            ],
            "text/html": [
              " View project at <a href='https://wandb.ai/arangan18-university-of-oslo/Adapter' target=\"_blank\">https://wandb.ai/arangan18-university-of-oslo/Adapter</a>"
            ]
          },
          "metadata": {}
        },
        {
          "output_type": "display_data",
          "data": {
            "text/plain": [
              "<IPython.core.display.HTML object>"
            ],
            "text/html": [
              " View run at <a href='https://wandb.ai/arangan18-university-of-oslo/Adapter/runs/l86mtopw' target=\"_blank\">https://wandb.ai/arangan18-university-of-oslo/Adapter/runs/l86mtopw</a>"
            ]
          },
          "metadata": {}
        },
        {
          "output_type": "stream",
          "name": "stdout",
          "text": [
            "-------Dimensions for Training set-------------\n",
            "6\n",
            "torch.Size([19, 6, 448, 448])\n",
            "torch.Size([9, 6, 448, 448])\n",
            "torch.Size([21, 6, 448, 448])\n",
            "torch.Size([37, 6, 448, 448])\n",
            "torch.Size([14, 6, 448, 448])\n",
            "torch.Size([8, 6, 448, 448])\n"
          ]
        }
      ]
    },
    {
      "cell_type": "code",
      "source": [
        "#---Test Set---\n",
        "print('-------Dimensions for Test set-------------')\n",
        "grouped_generator_fns_test, grouped_patch_count_test = group_generators_by_patch_limit(generators_test,\n",
        "                                                                                       num_patches_per_test_echogram,\n",
        "                                                                                       30)\n",
        "test_dataset = BatchGeneratorDataset(grouped_generator_fns_test)\n",
        "\n",
        "test_loader = DataLoader(test_dataset, batch_size = None, pin_memory= True)\n",
        "for label, data, mask in test_loader:\n",
        "  print(data.shape)\n",
        "\n"
      ],
      "metadata": {
        "colab": {
          "base_uri": "https://localhost:8080/"
        },
        "id": "MGA_e50BHE_q",
        "outputId": "213459bc-b572-44e0-e5b8-aa0911a87e00"
      },
      "id": "MGA_e50BHE_q",
      "execution_count": 9,
      "outputs": [
        {
          "output_type": "stream",
          "name": "stdout",
          "text": [
            "-------Dimensions for Test set-------------\n",
            "torch.Size([16, 6, 448, 448])\n"
          ]
        }
      ]
    },
    {
      "cell_type": "code",
      "source": [
        "torch.cuda.empty_cache()\n",
        "!nvidia-smi"
      ],
      "metadata": {
        "colab": {
          "base_uri": "https://localhost:8080/"
        },
        "id": "JLX1waGCmsLn",
        "outputId": "7bf8c0b7-dd22-43a1-d494-011fc40904aa"
      },
      "id": "JLX1waGCmsLn",
      "execution_count": 10,
      "outputs": [
        {
          "output_type": "stream",
          "name": "stdout",
          "text": [
            "Mon Aug 25 16:13:33 2025       \n",
            "+-----------------------------------------------------------------------------------------+\n",
            "| NVIDIA-SMI 550.54.15              Driver Version: 550.54.15      CUDA Version: 12.4     |\n",
            "|-----------------------------------------+------------------------+----------------------+\n",
            "| GPU  Name                 Persistence-M | Bus-Id          Disp.A | Volatile Uncorr. ECC |\n",
            "| Fan  Temp   Perf          Pwr:Usage/Cap |           Memory-Usage | GPU-Util  Compute M. |\n",
            "|                                         |                        |               MIG M. |\n",
            "|=========================================+========================+======================|\n",
            "|   0  Tesla T4                       Off |   00000000:00:04.0 Off |                    0 |\n",
            "| N/A   63C    P0             31W /   70W |     102MiB /  15360MiB |      0%      Default |\n",
            "|                                         |                        |                  N/A |\n",
            "+-----------------------------------------+------------------------+----------------------+\n",
            "                                                                                         \n",
            "+-----------------------------------------------------------------------------------------+\n",
            "| Processes:                                                                              |\n",
            "|  GPU   GI   CI        PID   Type   Process name                              GPU Memory |\n",
            "|        ID   ID                                                               Usage      |\n",
            "|=========================================================================================|\n",
            "+-----------------------------------------------------------------------------------------+\n"
          ]
        }
      ]
    },
    {
      "cell_type": "code",
      "execution_count": 13,
      "id": "8c7ff4ed",
      "metadata": {
        "id": "8c7ff4ed",
        "outputId": "1419a3d2-8be7-434b-d174-53dfaa7e89b9",
        "colab": {
          "base_uri": "https://localhost:8080/",
          "height": 456
        }
      },
      "outputs": [
        {
          "output_type": "display_data",
          "data": {
            "text/plain": [
              "<IPython.core.display.HTML object>"
            ],
            "text/html": [
              "Finishing previous runs because reinit is set to 'default'."
            ]
          },
          "metadata": {}
        },
        {
          "output_type": "display_data",
          "data": {
            "text/plain": [
              "<IPython.core.display.HTML object>"
            ],
            "text/html": []
          },
          "metadata": {}
        },
        {
          "output_type": "display_data",
          "data": {
            "text/plain": [
              "<IPython.core.display.HTML object>"
            ],
            "text/html": [
              " View run <strong style=\"color:#cdcd00\">_run</strong> at: <a href='https://wandb.ai/arangan18-university-of-oslo/Adapter/runs/w76jmh7m' target=\"_blank\">https://wandb.ai/arangan18-university-of-oslo/Adapter/runs/w76jmh7m</a><br> View project at: <a href='https://wandb.ai/arangan18-university-of-oslo/Adapter' target=\"_blank\">https://wandb.ai/arangan18-university-of-oslo/Adapter</a><br>Synced 5 W&B file(s), 0 media file(s), 0 artifact file(s) and 0 other file(s)"
            ]
          },
          "metadata": {}
        },
        {
          "output_type": "display_data",
          "data": {
            "text/plain": [
              "<IPython.core.display.HTML object>"
            ],
            "text/html": [
              "Find logs at: <code>./wandb/run-20250825_105645-w76jmh7m/logs</code>"
            ]
          },
          "metadata": {}
        },
        {
          "output_type": "display_data",
          "data": {
            "text/plain": [
              "<IPython.core.display.HTML object>"
            ],
            "text/html": [
              "Tracking run with wandb version 0.21.1"
            ]
          },
          "metadata": {}
        },
        {
          "output_type": "display_data",
          "data": {
            "text/plain": [
              "<IPython.core.display.HTML object>"
            ],
            "text/html": [
              "Run data is saved locally in <code>/content/wandb/run-20250825_105652-8j9cpsy9</code>"
            ]
          },
          "metadata": {}
        },
        {
          "output_type": "display_data",
          "data": {
            "text/plain": [
              "<IPython.core.display.HTML object>"
            ],
            "text/html": [
              "Syncing run <strong><a href='https://wandb.ai/arangan18-university-of-oslo/Adapter/runs/8j9cpsy9' target=\"_blank\">ResNetAutoEncoder_run</a></strong> to <a href='https://wandb.ai/arangan18-university-of-oslo/Adapter' target=\"_blank\">Weights & Biases</a> (<a href='https://wandb.me/developer-guide' target=\"_blank\">docs</a>)<br>"
            ]
          },
          "metadata": {}
        },
        {
          "output_type": "display_data",
          "data": {
            "text/plain": [
              "<IPython.core.display.HTML object>"
            ],
            "text/html": [
              " View project at <a href='https://wandb.ai/arangan18-university-of-oslo/Adapter' target=\"_blank\">https://wandb.ai/arangan18-university-of-oslo/Adapter</a>"
            ]
          },
          "metadata": {}
        },
        {
          "output_type": "display_data",
          "data": {
            "text/plain": [
              "<IPython.core.display.HTML object>"
            ],
            "text/html": [
              " View run at <a href='https://wandb.ai/arangan18-university-of-oslo/Adapter/runs/8j9cpsy9' target=\"_blank\">https://wandb.ai/arangan18-university-of-oslo/Adapter/runs/8j9cpsy9</a>"
            ]
          },
          "metadata": {}
        },
        {
          "output_type": "stream",
          "name": "stdout",
          "text": [
            "Downloading: \"https://download.pytorch.org/models/resnet34-b627a593.pth\" to /root/.cache/torch/hub/checkpoints/resnet34-b627a593.pth\n"
          ]
        },
        {
          "output_type": "stream",
          "name": "stderr",
          "text": [
            "100%|██████████| 83.3M/83.3M [00:00<00:00, 203MB/s]\n"
          ]
        },
        {
          "output_type": "error",
          "ename": "NameError",
          "evalue": "name 'train_batched_loader' is not defined",
          "traceback": [
            "\u001b[0;31m---------------------------------------------------------------------------\u001b[0m",
            "\u001b[0;31mNameError\u001b[0m                                 Traceback (most recent call last)",
            "\u001b[0;32m/tmp/ipython-input-1901712214.py\u001b[0m in \u001b[0;36m<cell line: 0>\u001b[0;34m()\u001b[0m\n\u001b[1;32m     19\u001b[0m )\n\u001b[1;32m     20\u001b[0m \u001b[0;34m\u001b[0m\u001b[0m\n\u001b[0;32m---> 21\u001b[0;31m \u001b[0mencoded\u001b[0m\u001b[0;34m,\u001b[0m \u001b[0mavg_loss_train\u001b[0m\u001b[0;34m,\u001b[0m \u001b[0mval_encoded\u001b[0m\u001b[0;34m,\u001b[0m \u001b[0mavg_loss_val\u001b[0m\u001b[0;34m,\u001b[0m \u001b[0mepoch_stop\u001b[0m \u001b[0;34m=\u001b[0m \u001b[0mtrain_val_encoder\u001b[0m\u001b[0;34m(\u001b[0m\u001b[0mmodel\u001b[0m\u001b[0;34m,\u001b[0m \u001b[0moptimizer\u001b[0m\u001b[0;34m,\u001b[0m \u001b[0mLoss_func\u001b[0m\u001b[0;34m,\u001b[0m \u001b[0mrun\u001b[0m\u001b[0;34m.\u001b[0m\u001b[0mconfig\u001b[0m\u001b[0;34m[\u001b[0m\u001b[0;34m'epochs'\u001b[0m\u001b[0;34m]\u001b[0m\u001b[0;34m,\u001b[0m \u001b[0mtrain_batched_loader\u001b[0m\u001b[0;34m,\u001b[0m \u001b[0mtest_batched_loader\u001b[0m\u001b[0;34m,\u001b[0m \u001b[0mrun\u001b[0m\u001b[0;34m)\u001b[0m\u001b[0;34m\u001b[0m\u001b[0;34m\u001b[0m\u001b[0m\n\u001b[0m\u001b[1;32m     22\u001b[0m \u001b[0;34m\u001b[0m\u001b[0m\n\u001b[1;32m     23\u001b[0m \u001b[0mplot_loss\u001b[0m\u001b[0;34m(\u001b[0m\u001b[0mrun\u001b[0m\u001b[0;34m.\u001b[0m\u001b[0mconfig\u001b[0m\u001b[0;34m[\u001b[0m\u001b[0;34m'epochs'\u001b[0m\u001b[0;34m]\u001b[0m\u001b[0;34m,\u001b[0m \u001b[0mavg_loss_train\u001b[0m\u001b[0;34m,\u001b[0m \u001b[0mavg_loss_val\u001b[0m\u001b[0;34m,\u001b[0m \u001b[0mepoch_stop\u001b[0m\u001b[0;34m)\u001b[0m\u001b[0;34m\u001b[0m\u001b[0;34m\u001b[0m\u001b[0m\n",
            "\u001b[0;31mNameError\u001b[0m: name 'train_batched_loader' is not defined"
          ]
        }
      ],
      "source": [
        "\"\"\"\n",
        "#from adaptation_method.train_autoencoder import train_val_encoder\n",
        "from Inform_project_new.adaptation_method.train_autoencoder import train_val_encoder, plot_loss\n",
        "from Inform_project_new.adaptation_method.Autoencoder import ResNetAutoEncoder\n",
        "import torch.optim as optim\n",
        "import torch.nn as nn\n",
        "\n",
        "#For Logging\n",
        "run = Configuration(model_name = 'ResNetAutoEncoder')\n",
        "\n",
        "#Instantiating model\n",
        "model = ResNetAutoEncoder()\n",
        "\n",
        "# Defining Loss function and optimizer\n",
        "Loss_func = nn.MSELoss()\n",
        "\n",
        "optimizer = optim.Adam(filter(lambda p: p.requires_grad, model.parameters()),\n",
        "                       lr= run.config['learning_rate'],\n",
        "                       weight_decay= run.config['Weight_decay']\n",
        ")\n",
        "\n",
        "encoded, avg_loss_train, val_encoded, avg_loss_val, epoch_stop = train_val_encoder(model, optimizer, Loss_func, run.config['epochs'], train_batched_loader, test_batched_loader, run)\n",
        "\n",
        "plot_loss(run.config['epochs'], avg_loss_train, avg_loss_val, epoch_stop)\n",
        "\"\"\""
      ]
    },
    {
      "cell_type": "code",
      "execution_count": 12,
      "id": "ae650b85",
      "metadata": {
        "id": "ae650b85",
        "outputId": "0636a111-a371-4796-f484-490a5461930f",
        "colab": {
          "base_uri": "https://localhost:8080/",
          "height": 1000
        }
      },
      "outputs": [
        {
          "output_type": "display_data",
          "data": {
            "text/plain": [
              "<IPython.core.display.HTML object>"
            ],
            "text/html": [
              "Tracking run with wandb version 0.21.1"
            ]
          },
          "metadata": {}
        },
        {
          "output_type": "display_data",
          "data": {
            "text/plain": [
              "<IPython.core.display.HTML object>"
            ],
            "text/html": [
              "Run data is saved locally in <code>/content/wandb/run-20250825_161613-fxq685gb</code>"
            ]
          },
          "metadata": {}
        },
        {
          "output_type": "display_data",
          "data": {
            "text/plain": [
              "<IPython.core.display.HTML object>"
            ],
            "text/html": [
              "Syncing run <strong><a href='https://wandb.ai/arangan18-university-of-oslo/Adapter/runs/fxq685gb' target=\"_blank\">Autoencoder_run</a></strong> to <a href='https://wandb.ai/arangan18-university-of-oslo/Adapter' target=\"_blank\">Weights & Biases</a> (<a href='https://wandb.me/developer-guide' target=\"_blank\">docs</a>)<br>"
            ]
          },
          "metadata": {}
        },
        {
          "output_type": "display_data",
          "data": {
            "text/plain": [
              "<IPython.core.display.HTML object>"
            ],
            "text/html": [
              " View project at <a href='https://wandb.ai/arangan18-university-of-oslo/Adapter' target=\"_blank\">https://wandb.ai/arangan18-university-of-oslo/Adapter</a>"
            ]
          },
          "metadata": {}
        },
        {
          "output_type": "display_data",
          "data": {
            "text/plain": [
              "<IPython.core.display.HTML object>"
            ],
            "text/html": [
              " View run at <a href='https://wandb.ai/arangan18-university-of-oslo/Adapter/runs/fxq685gb' target=\"_blank\">https://wandb.ai/arangan18-university-of-oslo/Adapter/runs/fxq685gb</a>"
            ]
          },
          "metadata": {}
        },
        {
          "output_type": "stream",
          "name": "stderr",
          "text": [
            "Epoch 1/10: 100%|██████████| 6/6 [00:03<00:00,  1.55it/s]\n"
          ]
        },
        {
          "output_type": "stream",
          "name": "stdout",
          "text": [
            "Train encodings: min=0.0130, max=0.9740\n",
            "Val latents: min=0.0111, max=0.9778\n",
            " Train Loss = 0.0971 ,Validation Loss = 0.0570\n"
          ]
        },
        {
          "output_type": "stream",
          "name": "stderr",
          "text": [
            "Epoch 2/10: 100%|██████████| 6/6 [00:04<00:00,  1.49it/s]\n"
          ]
        },
        {
          "output_type": "stream",
          "name": "stdout",
          "text": [
            "Train encodings: min=0.0388, max=0.9224\n",
            "Val latents: min=0.0388, max=0.9224\n",
            " Train Loss = 0.0421 ,Validation Loss = 0.0320\n"
          ]
        },
        {
          "output_type": "stream",
          "name": "stderr",
          "text": [
            "Epoch 3/10: 100%|██████████| 6/6 [00:04<00:00,  1.49it/s]\n"
          ]
        },
        {
          "output_type": "stream",
          "name": "stdout",
          "text": [
            "Train encodings: min=0.0685, max=0.8629\n",
            "Val latents: min=0.0800, max=0.8401\n",
            " Train Loss = 0.0292 ,Validation Loss = 0.0240\n"
          ]
        },
        {
          "output_type": "stream",
          "name": "stderr",
          "text": [
            "Epoch 4/10: 100%|██████████| 6/6 [00:03<00:00,  1.67it/s]\n"
          ]
        },
        {
          "output_type": "stream",
          "name": "stdout",
          "text": [
            "Train encodings: min=0.0712, max=0.8577\n",
            "Val latents: min=0.0754, max=0.8492\n",
            " Train Loss = 0.0254 ,Validation Loss = 0.0191\n"
          ]
        },
        {
          "output_type": "stream",
          "name": "stderr",
          "text": [
            "Epoch 5/10: 100%|██████████| 6/6 [00:03<00:00,  1.64it/s]\n"
          ]
        },
        {
          "output_type": "stream",
          "name": "stdout",
          "text": [
            "Train encodings: min=0.0670, max=0.8660\n",
            "Val latents: min=0.0696, max=0.8608\n",
            " Train Loss = 0.0229 ,Validation Loss = 0.0239\n"
          ]
        },
        {
          "output_type": "stream",
          "name": "stderr",
          "text": [
            "Epoch 6/10: 100%|██████████| 6/6 [00:03<00:00,  1.50it/s]\n"
          ]
        },
        {
          "output_type": "stream",
          "name": "stdout",
          "text": [
            "Train encodings: min=0.0510, max=0.8980\n",
            "Val latents: min=0.0491, max=0.9018\n",
            " Train Loss = 0.0215 ,Validation Loss = 0.0230\n"
          ]
        },
        {
          "output_type": "stream",
          "name": "stderr",
          "text": [
            "Epoch 7/10: 100%|██████████| 6/6 [00:03<00:00,  1.62it/s]\n"
          ]
        },
        {
          "output_type": "stream",
          "name": "stdout",
          "text": [
            "Train encodings: min=0.0258, max=0.9484\n",
            "Val latents: min=0.0233, max=0.9533\n",
            " Train Loss = 0.0201 ,Validation Loss = 0.0165\n"
          ]
        },
        {
          "output_type": "stream",
          "name": "stderr",
          "text": [
            "Epoch 8/10: 100%|██████████| 6/6 [00:03<00:00,  1.54it/s]\n"
          ]
        },
        {
          "output_type": "stream",
          "name": "stdout",
          "text": [
            "Train encodings: min=0.0139, max=0.9721\n",
            "Val latents: min=0.0129, max=0.9742\n",
            " Train Loss = 0.0193 ,Validation Loss = 0.0172\n"
          ]
        },
        {
          "output_type": "stream",
          "name": "stderr",
          "text": [
            "Epoch 9/10: 100%|██████████| 6/6 [00:03<00:00,  1.57it/s]\n"
          ]
        },
        {
          "output_type": "stream",
          "name": "stdout",
          "text": [
            "Train encodings: min=0.0126, max=0.9749\n",
            "Val latents: min=0.0135, max=0.9731\n",
            " Train Loss = 0.0168 ,Validation Loss = 0.0161\n"
          ]
        },
        {
          "output_type": "stream",
          "name": "stderr",
          "text": [
            "Epoch 10/10: 100%|██████████| 6/6 [00:03<00:00,  1.52it/s]\n"
          ]
        },
        {
          "output_type": "stream",
          "name": "stdout",
          "text": [
            "Train encodings: min=0.0315, max=0.9370\n",
            "Val latents: min=0.0317, max=0.9366\n",
            " Train Loss = 0.0161 ,Validation Loss = 0.0131\n"
          ]
        },
        {
          "output_type": "display_data",
          "data": {
            "text/plain": [
              "<IPython.core.display.HTML object>"
            ],
            "text/html": []
          },
          "metadata": {}
        },
        {
          "output_type": "display_data",
          "data": {
            "text/plain": [
              "<IPython.core.display.HTML object>"
            ],
            "text/html": [
              "<br>    <style><br>        .wandb-row {<br>            display: flex;<br>            flex-direction: row;<br>            flex-wrap: wrap;<br>            justify-content: flex-start;<br>            width: 100%;<br>        }<br>        .wandb-col {<br>            display: flex;<br>            flex-direction: column;<br>            flex-basis: 100%;<br>            flex: 1;<br>            padding: 10px;<br>        }<br>    </style><br><div class=\"wandb-row\"><div class=\"wandb-col\"><h3>Run history:</h3><br/><table class=\"wandb\"><tr><td>epoch</td><td>▁▂▃▃▄▅▆▆▇█</td></tr><tr><td>train_loss</td><td>█▃▂▂▂▁▁▁▁▁</td></tr><tr><td>val_loss</td><td>█▄▃▂▃▃▂▂▁▁</td></tr></table><br/></div><div class=\"wandb-col\"><h3>Run summary:</h3><br/><table class=\"wandb\"><tr><td>epoch</td><td>10</td></tr><tr><td>train_loss</td><td>0.01608</td></tr><tr><td>val_loss</td><td>0.0131</td></tr></table><br/></div></div>"
            ]
          },
          "metadata": {}
        },
        {
          "output_type": "display_data",
          "data": {
            "text/plain": [
              "<IPython.core.display.HTML object>"
            ],
            "text/html": [
              " View run <strong style=\"color:#cdcd00\">Autoencoder_run</strong> at: <a href='https://wandb.ai/arangan18-university-of-oslo/Adapter/runs/fxq685gb' target=\"_blank\">https://wandb.ai/arangan18-university-of-oslo/Adapter/runs/fxq685gb</a><br> View project at: <a href='https://wandb.ai/arangan18-university-of-oslo/Adapter' target=\"_blank\">https://wandb.ai/arangan18-university-of-oslo/Adapter</a><br>Synced 5 W&B file(s), 0 media file(s), 0 artifact file(s) and 0 other file(s)"
            ]
          },
          "metadata": {}
        },
        {
          "output_type": "display_data",
          "data": {
            "text/plain": [
              "<IPython.core.display.HTML object>"
            ],
            "text/html": [
              "Find logs at: <code>./wandb/run-20250825_161613-fxq685gb/logs</code>"
            ]
          },
          "metadata": {}
        },
        {
          "output_type": "display_data",
          "data": {
            "text/plain": [
              "<Figure size 1200x800 with 1 Axes>"
            ],
            "image/png": "[encoded data removed]"
          },
          "metadata": {}
        }
      ],
      "source": [
        "from Inform_project_new.adaptation_method.train_autoencoder import train_val_encoder, plot_loss\n",
        "from Inform_project_new.adaptation_method.Autoencoder import Autoencoder\n",
        "import torch.nn as nn\n",
        "import torch.optim as optim\n",
        "\n",
        "#For logging\n",
        "run = Configuration(model_name = 'Autoencoder')\n",
        "\n",
        "#Instantiating model\n",
        "model = Autoencoder()\n",
        "\n",
        "\n",
        "\n",
        "# Defining Loss function and optimizer\n",
        "Loss_func = nn.MSELoss()\n",
        "optimizer = optim.Adam(model.parameters(), lr = run.config['learning_rate'], weight_decay = run.config['Weight_decay'])\n",
        "\n",
        "latent,  val_latent, avg_loss_train, avg_loss_val, stop_epoch = train_val_encoder(model, optimizer, Loss_func, run.config['epochs'], train_loader, test_loader, run)\n",
        "\n",
        "plot_loss(run.config['epochs'], avg_loss_train, avg_loss_val, stop_epoch)\n"
      ]
    },
    {
      "cell_type": "code",
      "execution_count": null,
      "id": "af6c67a1",
      "metadata": {
        "id": "af6c67a1",
        "outputId": "89f4b3d9-3f18-4989-a9a5-d4d04bb63796",
        "colab": {
          "base_uri": "https://localhost:8080/",
          "height": 193
        }
      },
      "outputs": [
        {
          "output_type": "error",
          "ename": "NameError",
          "evalue": "name 'latent' is not defined",
          "traceback": [
            "\u001b[0;31m---------------------------------------------------------------------------\u001b[0m",
            "\u001b[0;31mNameError\u001b[0m                                 Traceback (most recent call last)",
            "\u001b[0;32m/tmp/ipython-input-1924315757.py\u001b[0m in \u001b[0;36m<cell line: 0>\u001b[0;34m()\u001b[0m\n\u001b[0;32m----> 1\u001b[0;31m \u001b[0mencoder\u001b[0m \u001b[0;34m=\u001b[0m \u001b[0mlatent\u001b[0m\u001b[0;34m.\u001b[0m\u001b[0msqueeze\u001b[0m\u001b[0;34m(\u001b[0m\u001b[0;36m0\u001b[0m\u001b[0;34m)\u001b[0m\u001b[0;34m\u001b[0m\u001b[0;34m\u001b[0m\u001b[0m\n\u001b[0m\u001b[1;32m      2\u001b[0m \u001b[0mencoder_transpose\u001b[0m \u001b[0;34m=\u001b[0m \u001b[0mencoder\u001b[0m\u001b[0;34m.\u001b[0m\u001b[0mpermute\u001b[0m\u001b[0;34m(\u001b[0m\u001b[0;36m2\u001b[0m\u001b[0;34m,\u001b[0m\u001b[0;36m1\u001b[0m\u001b[0;34m,\u001b[0m\u001b[0;36m0\u001b[0m\u001b[0;34m)\u001b[0m\u001b[0;34m\u001b[0m\u001b[0;34m\u001b[0m\u001b[0m\n\u001b[1;32m      3\u001b[0m \u001b[0mencoder\u001b[0m \u001b[0;34m=\u001b[0m \u001b[0mencoder_transpose\u001b[0m\u001b[0;34m.\u001b[0m\u001b[0mdetach\u001b[0m\u001b[0;34m(\u001b[0m\u001b[0;34m)\u001b[0m\u001b[0;34m.\u001b[0m\u001b[0mnumpy\u001b[0m\u001b[0;34m(\u001b[0m\u001b[0;34m)\u001b[0m\u001b[0;34m\u001b[0m\u001b[0;34m\u001b[0m\u001b[0m\n\u001b[1;32m      4\u001b[0m \u001b[0mprint\u001b[0m\u001b[0;34m(\u001b[0m\u001b[0mencoder\u001b[0m\u001b[0;34m.\u001b[0m\u001b[0mshape\u001b[0m\u001b[0;34m)\u001b[0m\u001b[0;34m\u001b[0m\u001b[0;34m\u001b[0m\u001b[0m\n",
            "\u001b[0;31mNameError\u001b[0m: name 'latent' is not defined"
          ]
        }
      ],
      "source": [
        "encoder = latent.squeeze(0)\n",
        "encoder_transpose = encoder.permute(2,1,0)\n",
        "encoder = encoder_transpose.detach().numpy()\n",
        "print(encoder.shape)"
      ]
    },
    {
      "cell_type": "code",
      "execution_count": null,
      "id": "b0f2ab4e",
      "metadata": {
        "id": "b0f2ab4e"
      },
      "outputs": [],
      "source": []
    }
  ],
  "metadata": {
    "kernelspec": {
      "display_name": "Python 3",
      "name": "python3"
    },
    "language_info": {
      "codemirror_mode": {
        "name": "ipython",
        "version": 3
      },
      "file_extension": ".py",
      "mimetype": "text/x-python",
      "name": "python",
      "nbconvert_exporter": "python",
      "pygments_lexer": "ipython3",
      "version": "3.12.5"
    },
    "colab": {
      "provenance": [],
      "gpuType": "T4"
    },
    "accelerator": "GPU"
  },
  "nbformat": 4,
  "nbformat_minor": 5
}