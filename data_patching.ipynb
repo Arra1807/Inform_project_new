{
  "cells": [
    {
      "cell_type": "code",
      "source": [
        "from google.colab import drive\n",
        "drive.mount('/content/drive')\n"
      ],
      "metadata": {
        "colab": {
          "base_uri": "https://localhost:8080/"
        },
        "id": "herd9waS3JGo",
        "outputId": "f4e88729-9970-45e9-b191-1ad1a88acdc7"
      },
      "id": "herd9waS3JGo",
      "execution_count": 1,
      "outputs": [
        {
          "output_type": "stream",
          "name": "stdout",
          "text": [
            "Mounted at /content/drive\n"
          ]
        }
      ]
    },
    {
      "cell_type": "code",
      "source": [
        "!git clone https://github.com/Arra1807/Inform_project_new.git"
      ],
      "metadata": {
        "colab": {
          "base_uri": "https://localhost:8080/"
        },
        "id": "Fpzwn-GI3gDu",
        "outputId": "1afdecf6-a9f9-4ff6-bff6-fd8656ea843c"
      },
      "id": "Fpzwn-GI3gDu",
      "execution_count": 2,
      "outputs": [
        {
          "output_type": "stream",
          "name": "stdout",
          "text": [
            "Cloning into 'Inform_project_new'...\n",
            "remote: Enumerating objects: 167, done.\u001b[K\n",
            "remote: Counting objects: 100% (167/167), done.\u001b[K\n",
            "remote: Compressing objects: 100% (159/159), done.\u001b[K\n",
            "remote: Total 167 (delta 59), reused 0 (delta 0), pack-reused 0 (from 0)\u001b[K\n",
            "Receiving objects: 100% (167/167), 1.08 MiB | 2.27 MiB/s, done.\n",
            "Resolving deltas: 100% (59/59), done.\n"
          ]
        }
      ]
    },
    {
      "cell_type": "code",
      "source": [
        "!nvidia-smi"
      ],
      "metadata": {
        "id": "d72-TcjMOZSG",
        "outputId": "041cbd44-935d-4bce-849b-29fbf6980166",
        "colab": {
          "base_uri": "https://localhost:8080/"
        }
      },
      "id": "d72-TcjMOZSG",
      "execution_count": 3,
      "outputs": [
        {
          "output_type": "stream",
          "name": "stdout",
          "text": [
            "Wed Jul 30 12:08:24 2025       \n",
            "+-----------------------------------------------------------------------------------------+\n",
            "| NVIDIA-SMI 550.54.15              Driver Version: 550.54.15      CUDA Version: 12.4     |\n",
            "|-----------------------------------------+------------------------+----------------------+\n",
            "| GPU  Name                 Persistence-M | Bus-Id          Disp.A | Volatile Uncorr. ECC |\n",
            "| Fan  Temp   Perf          Pwr:Usage/Cap |           Memory-Usage | GPU-Util  Compute M. |\n",
            "|                                         |                        |               MIG M. |\n",
            "|=========================================+========================+======================|\n",
            "|   0  NVIDIA L4                      Off |   00000000:00:03.0 Off |                    0 |\n",
            "| N/A   40C    P8             12W /   72W |       0MiB /  23034MiB |      0%      Default |\n",
            "|                                         |                        |                  N/A |\n",
            "+-----------------------------------------+------------------------+----------------------+\n",
            "                                                                                         \n",
            "+-----------------------------------------------------------------------------------------+\n",
            "| Processes:                                                                              |\n",
            "|  GPU   GI   CI        PID   Type   Process name                              GPU Memory |\n",
            "|        ID   ID                                                               Usage      |\n",
            "|=========================================================================================|\n",
            "|  No running processes found                                                             |\n",
            "+-----------------------------------------------------------------------------------------+\n"
          ]
        }
      ]
    },
    {
      "cell_type": "markdown",
      "source": [
        "# Load Data"
      ],
      "metadata": {
        "id": "91mBs1WWnyv0"
      },
      "id": "91mBs1WWnyv0"
    },
    {
      "cell_type": "code",
      "execution_count": null,
      "id": "4dc01af9",
      "metadata": {
        "id": "4dc01af9"
      },
      "outputs": [],
      "source": [
        "import numpy as np\n",
        "from Inform_project_new.data.echosounder_data.load_data.get_echograms import get_echograms, count_classes_in_echograms\n",
        "\n",
        "# You can select a specific year or use 'all' to include multiple years.\n",
        "years = 2014\n",
        "minimum_shape = 224\n",
        "tuple_frequencies = (18, 38, 70, 120, 200, 333)\n",
        "echograms = get_echograms(years=years, tuple_frequencies=tuple_frequencies, minimum_shape=minimum_shape)\n",
        "print(f\"Number of echograms: {len(echograms)}\")\n",
        "\n"
      ]
    },
    {
      "cell_type": "markdown",
      "source": [
        "# Split Large Echograms into Train images and Test images"
      ],
      "metadata": {
        "id": "cKDdjleDn8bV"
      },
      "id": "cKDdjleDn8bV"
    },
    {
      "cell_type": "code",
      "source": [
        "Train_eg = []\n",
        "test_eg = []\n",
        "for i,echogram in enumerate(echograms):\n",
        "  if i < 8:\n",
        "    Train_eg.append(echogram)\n",
        "  else:\n",
        "    test_eg.append(echogram)\n",
        "print('Train Echogram:', len(Train_eg))\n",
        "print('Test Echogram:', len(test_eg))"
      ],
      "metadata": {
        "id": "z4AhaZuhNvZF"
      },
      "id": "z4AhaZuhNvZF",
      "execution_count": null,
      "outputs": []
    },
    {
      "cell_type": "code",
      "source": [
        "from Inform_project_new.data.echosounder_data.preprocessing.resize_and_crop import SplitResizeEchogram, generate_patch_batches\n",
        "from Inform_project_new.data.echosounder_data.preprocessing.normalization import db, clip, standardize_min_max\n",
        "from Inform_project_new.adaptation_method.model_config import Configuration\n",
        "\n",
        "#For logging purposes\n",
        "run= Configuration()\n",
        "\n",
        "data_transform = [db, clip, standardize_min_max]\n",
        "split_patch_size = 224\n",
        "output_patch_size = 224\n",
        "\n",
        "\n",
        "#---Train set---\n",
        "train_generators, num_patches_per_train_echogram = generate_patch_batches(Train_eg, split_patch_size,\n",
        "                                                                          output_patch_size, data_transforms= data_transform,\n",
        "                                                                          batch_size='full', verbose= False)\n",
        "print('Number of patches per echogram for training:', num_patches_per_train_echogram )\n",
        "\n",
        "#---Test set---\n",
        "generators_test, num_patches_per_test_echogram = generate_patch_batches(test_eg, split_patch_size, output_patch_size,\n",
        "                                                                        data_transforms= data_transform,\n",
        "                                                                        batch_size='full', verbose= False)\n",
        "print('Number of patches per echogram for testing:', num_patches_per_train_echogram )"
      ],
      "metadata": {
        "id": "0AjCE2nIqMEW"
      },
      "id": "0AjCE2nIqMEW",
      "execution_count": null,
      "outputs": []
    },
    {
      "cell_type": "markdown",
      "source": [
        "# Dataloader"
      ],
      "metadata": {
        "id": "Nn7zdvqooFeU"
      },
      "id": "Nn7zdvqooFeU"
    },
    {
      "cell_type": "code",
      "source": [
        "from Inform_project_new.data.echosounder_data.dataloader import BatchGeneratorDataset, GroupedGenerator, group_generators_by_patch_limit\n",
        "from torch.utils.data import DataLoader\n",
        "from Inform_project_new.adaptation_method.model_config import Configuration\n",
        "\n",
        "#---Training set---\n",
        "print('-------Dimensions for Training set-------------')\n",
        "grouped_generator_fns, grouped_patch_count = group_generators_by_patch_limit(train_generators, num_patches_per_train_echogram, 64)\n",
        "\n",
        "train_dataset = BatchGeneratorDataset(grouped_generator_fns)\n",
        "#train_loader = DataLoader(train_dataset, batch_size = None, shuffle= False)\n",
        "\n",
        "for labels, data, mask in train_dataset:\n",
        "  print(\"Data shape:\", data.shape)\n",
        "\n",
        "#---Test Set---\n",
        "print('-------Dimensions for Test set-------------')\n",
        "grouped_generator_fns, grouped_patch_count = group_generators_by_patch_limit(generators_test, num_patches_per_test_echogram, 64)\n",
        "\n",
        "test_dataset = BatchGeneratorDataset(grouped_generator_fns)\n",
        "#test_loader = DataLoader(test_dataset, batch_size = None, shuffle= False)\n",
        "\n",
        "for labels, data, mask in test_dataset:\n",
        "  print(\"Data shape:\", data.shape)\n",
        "\n",
        "\n"
      ],
      "metadata": {
        "id": "8gf7FSfMVCmv"
      },
      "id": "8gf7FSfMVCmv",
      "execution_count": null,
      "outputs": []
    },
    {
      "cell_type": "code",
      "execution_count": null,
      "id": "8c7ff4ed",
      "metadata": {
        "id": "8c7ff4ed"
      },
      "outputs": [],
      "source": [
        "#from adaptation_method.train_autoencoder import train_val_encoder\n",
        "from Inform_project_new.adaptation_method.train_autoencoder import train_val_encoder, plot_loss\n",
        "from Inform_project_new.adaptation_method.Autoencoder import ResNetAutoEncoder\n",
        "import torch.optim as optim\n",
        "import torch.nn as nn\n",
        "\n",
        "#Instantiating model\n",
        "model = ResNetAutoEncoder()\n",
        "\n",
        "# Defining Loss function and optimizer\n",
        "Loss_func = nn.MSELoss()\n",
        "\n",
        "optimizer = optim.Adam(filter(lambda p: p.requires_grad, model.parameters()),\n",
        "                       lr= run.config['learning_rate'],\n",
        "                       weight_decay= run.config['Weight_decay']\n",
        ")\n",
        "\n",
        "encoded, avg_loss_train, val_encoded, avg_loss_val, epoch_stop = train_val_encoder(model, optimizer, Loss_func, run.config['epochs'], train_dataset, test_dataset, run)\n",
        "\n",
        "plot_loss(run.config['epochs'], avg_loss_train, avg_loss_val, epoch_stop)"
      ]
    },
    {
      "cell_type": "code",
      "execution_count": null,
      "id": "ae650b85",
      "metadata": {
        "id": "ae650b85"
      },
      "outputs": [],
      "source": [
        "from Inform_project_new.adaptation_method.train_autoencoder import train_val_encoder, plot_loss\n",
        "from Inform_project_new.adaptation_method.Autoencoder.py import Autoencoder\n",
        "import torch.nn as nn\n",
        "import torch.optim as optim\n",
        "\n",
        "#Instantiating model\n",
        "model = Autoencoder()\n",
        "\n",
        "# Defining Loss function and optimizer\n",
        "Loss_func = nn.MSELoss()\n",
        "optimizer = optim.Adam(model.parameters(), lr = run.config['learning_rate'], weight_decay = run.config['Weight_decay'])\n",
        "\n",
        "encoded, avg_loss_train, val_encoded, avg_loss_val, stop_epoch = train_val_encoder(model, optimizer, Loss_func, run.config['epochs'], train_loader, test_loader, run)\n",
        "\n",
        "plot_loss(run.config['epochs'], avg_loss_train, avg_loss_val, stop_epoch)\n"
      ]
    },
    {
      "cell_type": "code",
      "execution_count": null,
      "id": "af6c67a1",
      "metadata": {
        "id": "af6c67a1"
      },
      "outputs": [],
      "source": [
        "encoder = encoded.squeeze(0)\n",
        "encoder_transpose = encoder.permute(2,1,0)\n",
        "encoder = encoder_transpose.detach().numpy()\n",
        "print(encoder.shape)"
      ]
    },
    {
      "cell_type": "code",
      "execution_count": null,
      "id": "b0f2ab4e",
      "metadata": {
        "id": "b0f2ab4e"
      },
      "outputs": [],
      "source": []
    }
  ],
  "metadata": {
    "kernelspec": {
      "display_name": "Python 3",
      "name": "python3"
    },
    "language_info": {
      "codemirror_mode": {
        "name": "ipython",
        "version": 3
      },
      "file_extension": ".py",
      "mimetype": "text/x-python",
      "name": "python",
      "nbconvert_exporter": "python",
      "pygments_lexer": "ipython3",
      "version": "3.12.5"
    },
    "colab": {
      "provenance": [],
      "gpuType": "L4"
    },
    "accelerator": "GPU"
  },
  "nbformat": 4,
  "nbformat_minor": 5
}